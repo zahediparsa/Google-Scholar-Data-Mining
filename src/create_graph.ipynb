{
 "cells": [
  {
   "cell_type": "code",
   "metadata": {
    "ExecuteTime": {
     "end_time": "2024-10-25T22:59:26.864945Z",
     "start_time": "2024-10-25T22:59:26.862575Z"
    }
   },
   "source": [
    "import networkx as nx\n",
    "import pandas as pd\n",
    "import numpy as np\n",
    "import matplotlib.pyplot as plt"
   ],
   "outputs": [],
   "execution_count": 16
  },
  {
   "cell_type": "code",
   "execution_count": 7,
   "metadata": {},
   "outputs": [],
   "source": [
    "articles = pd.read_csv(\"../../build/final_artilce.csv\")"
   ]
  },
  {
   "metadata": {
    "ExecuteTime": {
     "end_time": "2024-10-25T22:59:28.381926Z",
     "start_time": "2024-10-25T22:59:27.901466Z"
    }
   },
   "cell_type": "code",
   "source": "articles = pd.read_csv(r\"../final_article.csv\")",
   "outputs": [],
   "execution_count": 17
  },
  {
   "cell_type": "code",
   "metadata": {
    "ExecuteTime": {
     "end_time": "2024-10-25T22:59:29.082509Z",
     "start_time": "2024-10-25T22:59:29.078766Z"
    }
   },
   "source": [
    "def create_graph(df, subject):\n",
    "    G = nx.Graph()\n",
    "    \n",
    "    sub_df = df[df['main_subject'] == subject]\n",
    "    \n",
    "    # Add nodes and edges with weights\n",
    "    for _, row in sub_df.iterrows():\n",
    "        ids = row['link_ids_x'].split(',')\n",
    "        ids = list(map(str.strip, ids)) \n",
    "        G.add_nodes_from(ids)\n",
    "        for i in range(len(ids)):\n",
    "            for j in range(i + 1, len(ids)):\n",
    "                if G.has_edge(ids[i], ids[j]):\n",
    "                    G[ids[i]][ids[j]]['weight'] += 1\n",
    "                else:\n",
    "                    G.add_edge(ids[i], ids[j], weight=1)\n",
    "    \n",
    "    return G"
   ],
   "outputs": [],
   "execution_count": 18
  },
  {
   "cell_type": "code",
   "metadata": {
    "ExecuteTime": {
     "end_time": "2024-10-25T22:59:29.473911Z",
     "start_time": "2024-10-25T22:59:29.470382Z"
    }
   },
   "source": [
    "def plot_graph(G, subject):\n",
    "    plt.figure(figsize=(8, 6))\n",
    "    pos = nx.spring_layout(G,)\n",
    "    nx.draw(G,pos=pos, with_labels=False, node_color='black', node_size=20, edge_color='gray', font_size=5, font_weight='bold')\n",
    "    plt.title(f\"Graph for subject: {subject}\")\n",
    "    plt.show()"
   ],
   "outputs": [],
   "execution_count": 19
  },
  {
   "cell_type": "code",
   "metadata": {
    "ExecuteTime": {
     "end_time": "2024-10-25T22:59:31.272146Z",
     "start_time": "2024-10-25T22:59:31.269361Z"
    }
   },
   "source": [
    "def save_graph(G, filename, format=\"graphml\"):\n",
    "    if format == \"graphml\":\n",
    "        nx.write_graphml(G, filename)\n",
    "    elif format == \"gexf\":\n",
    "        nx.write_gexf(G, filename)\n",
    "    elif format == \"gml\":\n",
    "        nx.write_gml(G, filename)\n",
    "    else:\n",
    "        raise ValueError(\"Unsupported format. Choose from 'graphml', 'gexf', 'gml'.\")"
   ],
   "outputs": [],
   "execution_count": 20
  },
  {
   "cell_type": "code",
   "metadata": {
    "ExecuteTime": {
     "end_time": "2024-10-25T22:59:37.063763Z",
     "start_time": "2024-10-25T22:59:33.647314Z"
    }
   },
   "source": [
    "for subject in articles['main_subject'].unique():\n",
    "    G = create_graph(articles, subject)\n",
    "    save_graph(G, f\"../build/graphs/{subject}_graph.graphml\", format=\"graphml\")"
   ],
   "outputs": [],
   "execution_count": 21
  },
  {
   "cell_type": "code",
   "metadata": {
    "ExecuteTime": {
     "end_time": "2024-10-25T23:19:37.872297Z",
     "start_time": "2024-10-25T23:19:37.397328Z"
    }
   },
   "source": [
    "import pandas as pd\n",
    "import networkx as nx\n",
    "\n",
    "# Read the data\n",
    "articles = pd.read_csv(r\"../final_article.csv\")\n",
    "\n",
    "# Create the graph based on the specified subject\n",
    "def create_graph(df, subject):\n",
    "    G = nx.Graph()\n",
    "    sub_df = df[df['main_subject'] == subject]\n",
    "\n",
    "    # Add nodes and edges with weights\n",
    "    for _, row in sub_df.iterrows():\n",
    "        ids = row['link_ids_x'].split(',')\n",
    "        ids = list(map(str.strip, ids)) \n",
    "        G.add_nodes_from(ids)\n",
    "        for i in range(len(ids)):\n",
    "            for j in range(i + 1, len(ids)):\n",
    "                if G.has_edge(ids[i], ids[j]):\n",
    "                    G[ids[i]][ids[j]]['weight'] += 1\n",
    "                else:\n",
    "                    G.add_edge(ids[i], ids[j], weight=1)\n",
    "    \n",
    "    return G\n",
    "\n",
    "# Save the graph in GML format with stringizer to ensure compatibility\n",
    "def save_graph(G, filename):\n",
    "    nx.write_gml(G, filename, stringizer=str)  # Use stringizer to avoid invalid characters\n",
    "\n",
    "\n"
   ],
   "outputs": [],
   "execution_count": 22
  },
  {
   "metadata": {
    "ExecuteTime": {
     "end_time": "2024-10-25T23:19:44.957187Z",
     "start_time": "2024-10-25T23:19:41.321379Z"
    }
   },
   "cell_type": "code",
   "source": [
    "# Iterate over unique subjects and create, save graphs\n",
    "for subject in articles['main_subject'].unique():\n",
    "    G = create_graph(articles, subject)\n",
    "    save_graph(G, f\"../build/graphs/{subject}_graph.gml\")"
   ],
   "outputs": [],
   "execution_count": 23
  },
  {
   "metadata": {},
   "cell_type": "code",
   "outputs": [],
   "execution_count": null,
   "source": ""
  }
 ],
 "metadata": {
  "kernelspec": {
   "display_name": ".venv",
   "language": "python",
   "name": "python3"
  },
  "language_info": {
   "codemirror_mode": {
    "name": "ipython",
    "version": 3
   },
   "file_extension": ".py",
   "mimetype": "text/x-python",
   "name": "python",
   "nbconvert_exporter": "python",
   "pygments_lexer": "ipython3",
   "version": "3.12.3"
  }
 },
 "nbformat": 4,
 "nbformat_minor": 2
}
