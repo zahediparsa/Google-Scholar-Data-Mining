{
 "cells": [
  {
   "cell_type": "code",
   "execution_count": 5,
   "metadata": {},
   "outputs": [],
   "source": [
    "import networkx as nx\n",
    "import pandas as pd\n",
    "import numpy as np\n",
    "import matplotlib.pyplot as plt"
   ]
  },
  {
   "cell_type": "code",
   "execution_count": 7,
   "metadata": {},
   "outputs": [],
   "source": [
    "articles = pd.read_csv(\"../../build/final_artilce.csv\")"
   ]
  },
  {
   "cell_type": "code",
   "execution_count": 11,
   "metadata": {},
   "outputs": [],
   "source": [
    "def create_graph(df, subject):\n",
    "    G = nx.Graph()\n",
    "    \n",
    "    sub_df = df[df['main_subject'] == subject]\n",
    "    \n",
    "    # Add nodes and edges with weights\n",
    "    for _, row in sub_df.iterrows():\n",
    "        ids = row['link_ids_x'].split(',')\n",
    "        ids = list(map(str.strip, ids)) \n",
    "        G.add_nodes_from(ids)\n",
    "        for i in range(len(ids)):\n",
    "            for j in range(i + 1, len(ids)):\n",
    "                if G.has_edge(ids[i], ids[j]):\n",
    "                    G[ids[i]][ids[j]]['weight'] += 1\n",
    "                else:\n",
    "                    G.add_edge(ids[i], ids[j], weight=1)\n",
    "    \n",
    "    return G"
   ]
  },
  {
   "cell_type": "code",
   "execution_count": 12,
   "metadata": {},
   "outputs": [],
   "source": [
    "def plot_graph(G, subject):\n",
    "    plt.figure(figsize=(8, 6))\n",
    "    pos = nx.spring_layout(G,)\n",
    "    nx.draw(G,pos=pos, with_labels=False, node_color='black', node_size=20, edge_color='gray', font_size=5, font_weight='bold')\n",
    "    plt.title(f\"Graph for subject: {subject}\")\n",
    "    plt.show()"
   ]
  },
  {
   "cell_type": "code",
   "execution_count": 13,
   "metadata": {},
   "outputs": [],
   "source": [
    "def save_graph(G, filename, format=\"graphml\"):\n",
    "    if format == \"graphml\":\n",
    "        nx.write_graphml(G, filename)\n",
    "    elif format == \"gexf\":\n",
    "        nx.write_gexf(G, filename)\n",
    "    elif format == \"gml\":\n",
    "        nx.write_gml(G, filename)\n",
    "    else:\n",
    "        raise ValueError(\"Unsupported format. Choose from 'graphml', 'gexf', 'gml'.\")"
   ]
  },
  {
   "cell_type": "code",
   "execution_count": 16,
   "metadata": {},
   "outputs": [],
   "source": [
    "for subject in articles['main_subject'].unique():\n",
    "    G = create_graph(articles, subject)\n",
    "    save_graph(G, f\"../../build/graphs/{subject}_graph.graphml\", format=\"graphml\")"
   ]
  },
  {
   "cell_type": "code",
   "execution_count": null,
   "metadata": {},
   "outputs": [],
   "source": []
  }
 ],
 "metadata": {
  "kernelspec": {
   "display_name": ".venv",
   "language": "python",
   "name": "python3"
  },
  "language_info": {
   "codemirror_mode": {
    "name": "ipython",
    "version": 3
   },
   "file_extension": ".py",
   "mimetype": "text/x-python",
   "name": "python",
   "nbconvert_exporter": "python",
   "pygments_lexer": "ipython3",
   "version": "3.12.3"
  }
 },
 "nbformat": 4,
 "nbformat_minor": 2
}
