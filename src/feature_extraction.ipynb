{
 "cells": [
  {
   "cell_type": "code",
   "metadata": {
    "ExecuteTime": {
     "end_time": "2024-09-10T23:34:51.858079Z",
     "start_time": "2024-09-10T23:34:51.855177Z"
    }
   },
   "source": [
    "import numpy as np\n",
    "import pandas as pd"
   ],
   "outputs": [],
   "execution_count": 10
  },
  {
   "cell_type": "code",
   "execution_count": 2,
   "metadata": {},
   "outputs": [],
   "source": [
    "articles = pd.read_csv(\"../../build/final_artilce.csv\", index_col=0)\n",
    "profs = pd.read_csv(\"../../build/professors.csv\", index_col=0)\n",
    "unis = pd.read_csv(\"../../build/universities.csv\")"
   ]
  },
  {
   "metadata": {
    "ExecuteTime": {
     "end_time": "2024-09-10T23:34:56.979047Z",
     "start_time": "2024-09-10T23:34:56.418315Z"
    }
   },
   "cell_type": "code",
   "source": [
    "# Parsa's custom file paths\n",
    "articles = pd.read_csv(\"../articles_with_main_subject.csv\", index_col=0)\n",
    "profs = pd.read_csv(\"../professorsV2.csv\", index_col=0)\n",
    "unis = pd.read_csv(\"../universitiesV2.csv\")"
   ],
   "outputs": [],
   "execution_count": 11
  },
  {
   "cell_type": "markdown",
   "metadata": {},
   "source": [
    "#### Step 1: calculate Deapth and Breadth"
   ]
  },
  {
   "cell_type": "code",
   "metadata": {
    "ExecuteTime": {
     "end_time": "2024-09-10T23:34:58.226009Z",
     "start_time": "2024-09-10T23:34:58.221594Z"
    }
   },
   "source": [
    "from collections import defaultdict\n",
    "\n",
    "# Create dictionaries to map professor ID to university and university to subjects\n",
    "prof_to_univ = dict(zip(profs['id'], profs['university']))\n",
    "univ_subjects = defaultdict(lambda: defaultdict(int))"
   ],
   "outputs": [],
   "execution_count": 12
  },
  {
   "cell_type": "code",
   "metadata": {
    "ExecuteTime": {
     "end_time": "2024-09-10T23:35:02.208702Z",
     "start_time": "2024-09-10T23:34:58.586341Z"
    }
   },
   "source": [
    "# Iterate over each article\n",
    "for _, article in articles.iterrows():\n",
    "    subjects = article['main_subject']\n",
    "    link_ids = list(map(int, article['link_ids_x'].split(',')))\n",
    "    \n",
    "    # Assign main_subject to each professor's university\n",
    "    for prof_id in link_ids:\n",
    "        university = prof_to_univ.get(prof_id)\n",
    "        if university:\n",
    "            univ_subjects[university][subjects] += 1"
   ],
   "outputs": [],
   "execution_count": 13
  },
  {
   "cell_type": "code",
   "metadata": {
    "ExecuteTime": {
     "end_time": "2024-09-10T23:35:02.222384Z",
     "start_time": "2024-09-10T23:35:02.209707Z"
    }
   },
   "source": [
    "# Calculate breadth and depth for each university\n",
    "breadth_depth = []\n",
    "subject_numbers = articles['main_subject'].value_counts()\n",
    "\n",
    "for university, subjects in univ_subjects.items():\n",
    "    breadth = sum(1 for subject in subjects.values() if subject > 10)\n",
    "    uni_threshold = np.sqrt(sum(subjects.values()))\n",
    "    threshold = 200\n",
    "    depth = sum(1 for count in subjects.values() if count > threshold)  # Subjects with more than the threshold number of articles\n",
    "    uni_mean_depth = sum(1 for count in subjects.values() if count > uni_threshold)\n",
    "    subject_mean_depth = sum(1 for subject, count in subjects.items() if count > np.sqrt(subject_numbers[subject]))\n",
    "    # Append the results to the breadth_depth list\n",
    "    breadth_depth.append({\n",
    "        'university': university,\n",
    "        'subjects':subjects,\n",
    "        'touch_with_10': breadth,\n",
    "        'depth_with_uni_mean': uni_mean_depth,\n",
    "        'depth_with_subject_mean': subject_mean_depth,\n",
    "        'depth_with_200': depth,\n",
    "    })\n",
    "\n",
    "# Convert the breadth_depth list to a DataFrame\n",
    "breadth_depth_df = pd.DataFrame(breadth_depth)"
   ],
   "outputs": [],
   "execution_count": 14
  },
  {
   "cell_type": "code",
   "metadata": {
    "ExecuteTime": {
     "end_time": "2024-09-10T23:35:02.855846Z",
     "start_time": "2024-09-10T23:35:02.850509Z"
    }
   },
   "source": [
    "df = breadth_depth_df.drop(columns=['subjects'])\n",
    "results = pd.merge(unis, df, left_on='University', right_on=\"university\", how='left').drop(columns=[\"university\", \"Unnamed: 0\",])"
   ],
   "outputs": [],
   "execution_count": 15
  },
  {
   "cell_type": "code",
   "metadata": {
    "ExecuteTime": {
     "end_time": "2024-09-10T23:35:11.643839Z",
     "start_time": "2024-09-10T23:35:11.634486Z"
    }
   },
   "source": [
    "results"
   ],
   "outputs": [
    {
     "data": {
      "text/plain": [
       "    #Rank                                       University        Town  \\\n",
       "0       1                             University of Tehran      Tehran   \n",
       "1       2                  Sharif University of Technology      Tehran   \n",
       "2       5                   Ferdowsi University of Mashhad     Mashhad   \n",
       "3       7               Amirkabir University of Technology      Tehran   \n",
       "4       8                       Shahid Beheshti University      Tehran   \n",
       "..    ...                                              ...         ...   \n",
       "61    140                               Ardakan University     Ardakan   \n",
       "62    141                     Qom University of Technology         Qom   \n",
       "63    156              Kermanshah University of Technology  Kermanshah   \n",
       "64    179       Graduate University of Advanced Technology      Kerman   \n",
       "65    215  Mazandaran University of Science and Technology       Babol   \n",
       "\n",
       "                  org_id  is_governmental  touch_with_10  depth_with_uni_mean  \\\n",
       "0    3127243484376623607                1           24.0                 16.0   \n",
       "1   14542101698899415237                1           18.0                 11.0   \n",
       "2   12493016978831566375                1           23.0                 16.0   \n",
       "3    6418904117290021063                1           20.0                 14.0   \n",
       "4   15042406923477825387                1           21.0                 16.0   \n",
       "..                   ...              ...            ...                  ...   \n",
       "61   9161180858282046579                1           10.0                  6.0   \n",
       "62    693714768659580315                1            9.0                  7.0   \n",
       "63  13528429044870125586                1            9.0                  8.0   \n",
       "64  13516240938106875172                1           11.0                  9.0   \n",
       "65   8757340477448911634                1            5.0                  5.0   \n",
       "\n",
       "    depth_with_subject_mean  depth_with_200  \n",
       "0                      24.0            16.0  \n",
       "1                      13.0             9.0  \n",
       "2                      22.0            15.0  \n",
       "3                      14.0            10.0  \n",
       "4                      17.0            12.0  \n",
       "..                      ...             ...  \n",
       "61                      1.0             1.0  \n",
       "62                      0.0             0.0  \n",
       "63                      1.0             0.0  \n",
       "64                      0.0             0.0  \n",
       "65                      0.0             0.0  \n",
       "\n",
       "[66 rows x 9 columns]"
      ],
      "text/html": [
       "<div>\n",
       "<style scoped>\n",
       "    .dataframe tbody tr th:only-of-type {\n",
       "        vertical-align: middle;\n",
       "    }\n",
       "\n",
       "    .dataframe tbody tr th {\n",
       "        vertical-align: top;\n",
       "    }\n",
       "\n",
       "    .dataframe thead th {\n",
       "        text-align: right;\n",
       "    }\n",
       "</style>\n",
       "<table border=\"1\" class=\"dataframe\">\n",
       "  <thead>\n",
       "    <tr style=\"text-align: right;\">\n",
       "      <th></th>\n",
       "      <th>#Rank</th>\n",
       "      <th>University</th>\n",
       "      <th>Town</th>\n",
       "      <th>org_id</th>\n",
       "      <th>is_governmental</th>\n",
       "      <th>touch_with_10</th>\n",
       "      <th>depth_with_uni_mean</th>\n",
       "      <th>depth_with_subject_mean</th>\n",
       "      <th>depth_with_200</th>\n",
       "    </tr>\n",
       "  </thead>\n",
       "  <tbody>\n",
       "    <tr>\n",
       "      <th>0</th>\n",
       "      <td>1</td>\n",
       "      <td>University of Tehran</td>\n",
       "      <td>Tehran</td>\n",
       "      <td>3127243484376623607</td>\n",
       "      <td>1</td>\n",
       "      <td>24.0</td>\n",
       "      <td>16.0</td>\n",
       "      <td>24.0</td>\n",
       "      <td>16.0</td>\n",
       "    </tr>\n",
       "    <tr>\n",
       "      <th>1</th>\n",
       "      <td>2</td>\n",
       "      <td>Sharif University of Technology</td>\n",
       "      <td>Tehran</td>\n",
       "      <td>14542101698899415237</td>\n",
       "      <td>1</td>\n",
       "      <td>18.0</td>\n",
       "      <td>11.0</td>\n",
       "      <td>13.0</td>\n",
       "      <td>9.0</td>\n",
       "    </tr>\n",
       "    <tr>\n",
       "      <th>2</th>\n",
       "      <td>5</td>\n",
       "      <td>Ferdowsi University of Mashhad</td>\n",
       "      <td>Mashhad</td>\n",
       "      <td>12493016978831566375</td>\n",
       "      <td>1</td>\n",
       "      <td>23.0</td>\n",
       "      <td>16.0</td>\n",
       "      <td>22.0</td>\n",
       "      <td>15.0</td>\n",
       "    </tr>\n",
       "    <tr>\n",
       "      <th>3</th>\n",
       "      <td>7</td>\n",
       "      <td>Amirkabir University of Technology</td>\n",
       "      <td>Tehran</td>\n",
       "      <td>6418904117290021063</td>\n",
       "      <td>1</td>\n",
       "      <td>20.0</td>\n",
       "      <td>14.0</td>\n",
       "      <td>14.0</td>\n",
       "      <td>10.0</td>\n",
       "    </tr>\n",
       "    <tr>\n",
       "      <th>4</th>\n",
       "      <td>8</td>\n",
       "      <td>Shahid Beheshti University</td>\n",
       "      <td>Tehran</td>\n",
       "      <td>15042406923477825387</td>\n",
       "      <td>1</td>\n",
       "      <td>21.0</td>\n",
       "      <td>16.0</td>\n",
       "      <td>17.0</td>\n",
       "      <td>12.0</td>\n",
       "    </tr>\n",
       "    <tr>\n",
       "      <th>...</th>\n",
       "      <td>...</td>\n",
       "      <td>...</td>\n",
       "      <td>...</td>\n",
       "      <td>...</td>\n",
       "      <td>...</td>\n",
       "      <td>...</td>\n",
       "      <td>...</td>\n",
       "      <td>...</td>\n",
       "      <td>...</td>\n",
       "    </tr>\n",
       "    <tr>\n",
       "      <th>61</th>\n",
       "      <td>140</td>\n",
       "      <td>Ardakan University</td>\n",
       "      <td>Ardakan</td>\n",
       "      <td>9161180858282046579</td>\n",
       "      <td>1</td>\n",
       "      <td>10.0</td>\n",
       "      <td>6.0</td>\n",
       "      <td>1.0</td>\n",
       "      <td>1.0</td>\n",
       "    </tr>\n",
       "    <tr>\n",
       "      <th>62</th>\n",
       "      <td>141</td>\n",
       "      <td>Qom University of Technology</td>\n",
       "      <td>Qom</td>\n",
       "      <td>693714768659580315</td>\n",
       "      <td>1</td>\n",
       "      <td>9.0</td>\n",
       "      <td>7.0</td>\n",
       "      <td>0.0</td>\n",
       "      <td>0.0</td>\n",
       "    </tr>\n",
       "    <tr>\n",
       "      <th>63</th>\n",
       "      <td>156</td>\n",
       "      <td>Kermanshah University of Technology</td>\n",
       "      <td>Kermanshah</td>\n",
       "      <td>13528429044870125586</td>\n",
       "      <td>1</td>\n",
       "      <td>9.0</td>\n",
       "      <td>8.0</td>\n",
       "      <td>1.0</td>\n",
       "      <td>0.0</td>\n",
       "    </tr>\n",
       "    <tr>\n",
       "      <th>64</th>\n",
       "      <td>179</td>\n",
       "      <td>Graduate University of Advanced Technology</td>\n",
       "      <td>Kerman</td>\n",
       "      <td>13516240938106875172</td>\n",
       "      <td>1</td>\n",
       "      <td>11.0</td>\n",
       "      <td>9.0</td>\n",
       "      <td>0.0</td>\n",
       "      <td>0.0</td>\n",
       "    </tr>\n",
       "    <tr>\n",
       "      <th>65</th>\n",
       "      <td>215</td>\n",
       "      <td>Mazandaran University of Science and Technology</td>\n",
       "      <td>Babol</td>\n",
       "      <td>8757340477448911634</td>\n",
       "      <td>1</td>\n",
       "      <td>5.0</td>\n",
       "      <td>5.0</td>\n",
       "      <td>0.0</td>\n",
       "      <td>0.0</td>\n",
       "    </tr>\n",
       "  </tbody>\n",
       "</table>\n",
       "<p>66 rows × 9 columns</p>\n",
       "</div>"
      ]
     },
     "execution_count": 16,
     "metadata": {},
     "output_type": "execute_result"
    }
   ],
   "execution_count": 16
  },
  {
   "metadata": {},
   "cell_type": "markdown",
   "source": "### Last step: Saving universities with new features to universitiesV4 csv file"
  },
  {
   "cell_type": "code",
   "metadata": {
    "ExecuteTime": {
     "end_time": "2024-09-10T23:36:36.005852Z",
     "start_time": "2024-09-10T23:36:36.001744Z"
    }
   },
   "source": "results.to_csv(\"../universitiesV4.csv\")",
   "outputs": [],
   "execution_count": 17
  },
  {
   "metadata": {},
   "cell_type": "code",
   "outputs": [],
   "execution_count": null,
   "source": ""
  }
 ],
 "metadata": {
  "kernelspec": {
   "display_name": ".venv",
   "language": "python",
   "name": "python3"
  },
  "language_info": {
   "codemirror_mode": {
    "name": "ipython",
    "version": 3
   },
   "file_extension": ".py",
   "mimetype": "text/x-python",
   "name": "python",
   "nbconvert_exporter": "python",
   "pygments_lexer": "ipython3",
   "version": "3.12.3"
  }
 },
 "nbformat": 4,
 "nbformat_minor": 2
}
