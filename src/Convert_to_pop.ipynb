{
 "cells": [
  {
   "cell_type": "code",
   "id": "initial_id",
   "metadata": {
    "collapsed": true,
    "ExecuteTime": {
     "end_time": "2024-10-25T21:06:05.532519Z",
     "start_time": "2024-10-25T21:06:04.703748Z"
    }
   },
   "source": [
    "import pandas as pd\n",
    "\n",
    "# Load your existing CSV\n",
    "df = pd.read_csv(r\"D:\\finalArticles.csv\")\n",
    "\n",
    "# Create a new DataFrame with Publish or Perish headers\n",
    "pop_df = pd.DataFrame({\n",
    "    'Authors': df['main_authors'],\n",
    "    'Title': df['title'],\n",
    "    'Year': df['year'],\n",
    "    'Source title': '',  # Add other information here if available\n",
    "    'Cited by': df['cite'],\n",
    "    # Add more columns as required by Publish or Perish\n",
    "})\n",
    "\n",
    "# Export the DataFrame to CSV\n",
    "pop_df.to_csv('pop_formatted_file.csv', index=False)"
   ],
   "outputs": [
    {
     "name": "stderr",
     "output_type": "stream",
     "text": [
      "C:\\Users\\Parsa\\AppData\\Local\\Temp\\ipykernel_45340\\1110311886.py:4: DtypeWarning: Columns (8,9) have mixed types. Specify dtype option on import or set low_memory=False.\n",
      "  df = pd.read_csv(r\"D:\\finalArticles.csv\")\n"
     ]
    }
   ],
   "execution_count": 1
  },
  {
   "metadata": {},
   "cell_type": "code",
   "outputs": [],
   "execution_count": null,
   "source": "",
   "id": "3dec5c794a411981"
  }
 ],
 "metadata": {
  "kernelspec": {
   "display_name": "Python 3",
   "language": "python",
   "name": "python3"
  },
  "language_info": {
   "codemirror_mode": {
    "name": "ipython",
    "version": 2
   },
   "file_extension": ".py",
   "mimetype": "text/x-python",
   "name": "python",
   "nbconvert_exporter": "python",
   "pygments_lexer": "ipython2",
   "version": "2.7.6"
  }
 },
 "nbformat": 4,
 "nbformat_minor": 5
}
