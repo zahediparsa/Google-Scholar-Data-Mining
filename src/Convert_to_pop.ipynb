{
 "cells": [
  {
   "cell_type": "code",
   "id": "initial_id",
   "metadata": {
    "collapsed": true,
    "ExecuteTime": {
     "end_time": "2024-10-26T17:19:46.031273Z",
     "start_time": "2024-10-26T17:19:45.585314Z"
    }
   },
   "source": [
    "import pandas as pd\n",
    "\n",
    "# Load the original files\n",
    "my_scrap_path = '../final_article.csv'  # Path to your MyScrap.csv file\n",
    "multi_pop_path = '../multiPoP.csv'  # Path to your multiPoP.csv file\n",
    "my_scrap_df = pd.read_csv(my_scrap_path)\n",
    "multi_pop_df = pd.read_csv(multi_pop_path)\n",
    "\n",
    "# Define the columns to include in the output\n",
    "output_columns = [\n",
    "    'Cites', 'Authors', 'Title', 'Year', 'Source', 'Publisher', 'ArticleURL',\n",
    "    'CitesURL', 'GSRank', 'QueryDate', 'Type', 'DOI', 'ISSN', 'CitationURL', \n",
    "    'Volume', 'Issue', 'StartPage', 'EndPage', 'ECC', 'CitesPerYear', \n",
    "    'CitesPerAuthor', 'AuthorCount', 'Age', 'Abstract', 'FullTextURL', 'RelatedURL'\n",
    "]\n",
    "\n",
    "# Define a function to transform MyScrap.csv to match multiPoP.csv format\n",
    "def transform_my_scrap_to_multipop(my_scrap_df, output_columns):\n",
    "    # Define column mapping based on observed structure\n",
    "    column_mapping = {\n",
    "        'title': 'Title',\n",
    "        'year': 'Year',\n",
    "        'cite': 'Cites',\n",
    "        'main_authors': 'Authors',\n",
    "        'link_ids_x': 'ArticleURL',  # Assuming link_ids_x provides article links\n",
    "        'main_subject': 'Source'     # Assuming main_subject is analogous to Source\n",
    "    }\n",
    "    \n",
    "    # Rename columns in my_scrap_df according to mapping\n",
    "    transformed_df = my_scrap_df.rename(columns=column_mapping)\n",
    "    \n",
    "    # Set Year to float as seen in multiPoP.csv\n",
    "    transformed_df['Year'] = transformed_df['Year'].astype(float)\n",
    "    \n",
    "    # Add any missing columns in my_scrap_df to match output_columns structure\n",
    "    missing_columns = set(output_columns) - set(transformed_df.columns)\n",
    "    for col in missing_columns:\n",
    "        transformed_df[col] = \"\"  # Fill missing columns with empty strings\n",
    "    \n",
    "    # Select and reorder columns to match output_columns\n",
    "    transformed_df = transformed_df[output_columns]\n",
    "    \n",
    "    return transformed_df\n",
    "\n",
    "# Transform my_scrap_df to match specified output_columns\n",
    "transformed_df = transform_my_scrap_to_multipop(my_scrap_df, output_columns)"
   ],
   "outputs": [],
   "execution_count": 1
  },
  {
   "metadata": {
    "ExecuteTime": {
     "end_time": "2024-10-26T17:20:02.266191Z",
     "start_time": "2024-10-26T17:20:01.542325Z"
    }
   },
   "cell_type": "code",
   "source": [
    "# Save the transformed DataFrame to a new CSV file\n",
    "transformed_df.to_csv('Transformed_pop_articles.csv', index=False)"
   ],
   "id": "3dec5c794a411981",
   "outputs": [],
   "execution_count": 2
  },
  {
   "metadata": {},
   "cell_type": "code",
   "outputs": [],
   "execution_count": null,
   "source": "",
   "id": "4bb5be2816211140"
  }
 ],
 "metadata": {
  "kernelspec": {
   "display_name": "Python 3",
   "language": "python",
   "name": "python3"
  },
  "language_info": {
   "codemirror_mode": {
    "name": "ipython",
    "version": 2
   },
   "file_extension": ".py",
   "mimetype": "text/x-python",
   "name": "python",
   "nbconvert_exporter": "python",
   "pygments_lexer": "ipython2",
   "version": "2.7.6"
  }
 },
 "nbformat": 4,
 "nbformat_minor": 5
}
